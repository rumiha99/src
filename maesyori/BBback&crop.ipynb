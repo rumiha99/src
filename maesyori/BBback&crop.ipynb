{
 "cells": [
  {
   "cell_type": "code",
   "execution_count": 2,
   "metadata": {},
   "outputs": [],
   "source": [
    "import cv2\n",
    "import numpy as np\n",
    "import os\n",
    "\n",
    "date = \"0108_keijo\"\n",
    "\n",
    "input_folders = [\n",
    "    f\"/home/data/{date}/org/A\",\n",
    "    f\"/home/data/{date}/org/B\",\n",
    "    f\"/home/data/{date}/org/C\",\n",
    "]\n",
    "\n",
    "mask_output_folders = [\n",
    "    f\"/home/data/{date}/maskBB/A\",\n",
    "    f\"/home/data/{date}/maskBB/B\",\n",
    "    f\"/home/data/{date}/maskBB/C\",\n",
    "]\n",
    "    \n",
    "crop_output_folders = [\n",
    "    f\"/home/data/{date}/cropBB/A\",\n",
    "    f\"/home/data/{date}/cropBB/B\",\n",
    "    f\"/home/data/{date}/cropBB/C\",\n",
    "]\n",
    "\n",
    "maskedimg_output_folders = [\n",
    "    f\"/home/data/{date}/maskedBB/A\",\n",
    "    f\"/home/data/{date}/maskedBB/B\",\n",
    "    f\"/home/data/{date}/maskedBB/C\",\n",
    "]\n",
    "\n",
    "# 出力フォルダを作成\n",
    "for folder in mask_output_folders:\n",
    "    os.makedirs(folder, exist_ok=True)\n",
    "for folder in crop_output_folders:\n",
    "    os.makedirs(folder, exist_ok=True)\n",
    "for folder in maskedimg_output_folders:\n",
    "    os.makedirs(folder, exist_ok=True)\n",
    "\n",
    "for input_folder, mask_output_folder,crop_output_folder,maskedimg_output_folder in zip(input_folders, mask_output_folders,crop_output_folders,maskedimg_output_folders):\n",
    "    for file in os.listdir(input_folder):\n",
    "        # 画像ファイルのみを処理\n",
    "        if file.endswith(('.png', '.jpg', '.jpeg', '.bmp', '.JPEG')):\n",
    "            name = os.path.basename(file).replace(\".JPEG\", \"\")\n",
    "            file_path = os.path.join(input_folder, file)\n",
    "\n",
    "            # 画像を読み込む\n",
    "            image = cv2.imread(file_path)\n",
    "\n",
    "            # BGRからHSVに変換\n",
    "            hsv = cv2.cvtColor(image, cv2.COLOR_BGR2HSV)\n",
    "\n",
    "            # 青色の範囲を定義\n",
    "            lower_blue = np.array([20, 100, 100])\n",
    "            upper_blue = np.array([255, 255, 255])\n",
    "\n",
    "            # ブルーバックのマスクを作成\n",
    "            mask = cv2.inRange(hsv, lower_blue, upper_blue)\n",
    "\n",
    "            # マスクの反転（対象物を白、背景を黒にする）\n",
    "            mask_inv = cv2.bitwise_not(mask)\n",
    "\n",
    "            # 境界を検出\n",
    "            contours, _ = cv2.findContours(mask_inv, cv2.RETR_EXTERNAL, cv2.CHAIN_APPROX_SIMPLE)\n",
    "\n",
    "            # 最大の輪郭を取得\n",
    "            largest_contour = max(contours, key=cv2.contourArea)\n",
    "\n",
    "            # 対象物を切り取るための境界ボックスを取得\n",
    "            x, y, w, h = cv2.boundingRect(largest_contour)\n",
    "            cropped_image = image[y:y+h, x:x+w]\n",
    "            cropped_mask = mask_inv[y:y+h, x:x+w]\n",
    "            masked_cropped_image = cv2.bitwise_and(cropped_image, cropped_image, mask=cropped_mask)\n",
    "            \n",
    "            mask_output_file_path = os.path.join(mask_output_folder, file)\n",
    "            crop_output_file_path = os.path.join(crop_output_folder, file)\n",
    "            maskedimg_output_file_path = os.path.join(maskedimg_output_folder, file)\n",
    "        \n",
    "            # 切り取った画像を保存\n",
    "            cv2.imwrite(mask_output_file_path, cropped_mask)\n",
    "            cv2.imwrite(crop_output_file_path, cropped_image)\n",
    "            cv2.imwrite(maskedimg_output_file_path, masked_cropped_image)\n"
   ]
  },
  {
   "cell_type": "code",
   "execution_count": 4,
   "metadata": {},
   "outputs": [
    {
     "data": {
      "text/plain": [
       "True"
      ]
     },
     "execution_count": 4,
     "metadata": {},
     "output_type": "execute_result"
    }
   ],
   "source": [
    "import cv2\n",
    "import numpy as np\n",
    "import os\n",
    "file_path = \"/home/data/1216_jikunashi/org/C/IMG_1706.JPEG\"\n",
    "\n",
    "# 画像を読み込む\n",
    "image = cv2.imread(file_path)\n",
    "\n",
    "# BGRからHSVに変換\n",
    "hsv = cv2.cvtColor(image, cv2.COLOR_BGR2HSV)\n",
    "\n",
    "# 青色の範囲を定義\n",
    "lower_blue = np.array([20, 100, 100])\n",
    "upper_blue = np.array([255, 255, 255])\n",
    "\n",
    "# ブルーバックのマスクを作成\n",
    "mask = cv2.inRange(hsv, lower_blue, upper_blue)\n",
    "\n",
    "# マスクの反転（対象物を白、背景を黒にする）\n",
    "mask_inv = cv2.bitwise_not(mask)\n",
    "\n",
    "# 境界を検出\n",
    "contours, _ = cv2.findContours(mask_inv, cv2.RETR_EXTERNAL, cv2.CHAIN_APPROX_SIMPLE)\n",
    "\n",
    "# 最大の輪郭を取得\n",
    "largest_contour = max(contours, key=cv2.contourArea)\n",
    "\n",
    "# 対象物を切り取るための境界ボックスを取得\n",
    "# x, y, w, h = cv2.boundingRect(largest_contour)\n",
    "cropped_image = image\n",
    "cropped_mask = mask_inv\n",
    "masked_cropped_image = cv2.bitwise_and(cropped_image, cropped_image, mask=cropped_mask)\n",
    "\n",
    "# 切り取った画像を保存\n",
    "cv2.imwrite(\"/home/data/1216_jikunashi/cropped_mask.JPEG\", cropped_mask)\n",
    "cv2.imwrite(\"/home/data/1216_jikunashi/cropped_image.JPEG\", cropped_image)\n",
    "cv2.imwrite(\"/home/data/1216_jikunashi/masked_cropped_image.JPEG\", masked_cropped_image)\n"
   ]
  },
  {
   "cell_type": "code",
   "execution_count": 3,
   "metadata": {},
   "outputs": [
    {
     "data": {
      "text/plain": [
       "True"
      ]
     },
     "execution_count": 3,
     "metadata": {},
     "output_type": "execute_result"
    }
   ],
   "source": [
    "import cv2\n",
    "import numpy as np\n",
    "import matplotlib.pyplot as plt\n",
    "\n",
    "# 画像の読み込み\n",
    "image = cv2.imread('/home/data/0203_energee_after/org/B/IMG_1703.JPEG')\n",
    "\n",
    "# BGRからHSVに変換\n",
    "hsv = cv2.cvtColor(image, cv2.COLOR_BGR2HSV)\n",
    "\n",
    "# 青色の範囲を定義\n",
    "lower_blue = np.array([20, 100, 100])\n",
    "upper_blue = np.array([255, 255, 255])\n",
    "\n",
    "# ブルーバックのマスクを作成\n",
    "mask = cv2.inRange(hsv, lower_blue, upper_blue)\n",
    "\n",
    "# マスクの反転（対象物を白、背景を黒にする）\n",
    "mask_inv = cv2.bitwise_not(mask)\n",
    "\n",
    "# 境界を検出\n",
    "contours, _ = cv2.findContours(mask_inv, cv2.RETR_EXTERNAL, cv2.CHAIN_APPROX_SIMPLE)\n",
    "\n",
    "# 最大の輪郭を取得\n",
    "largest_contour = max(contours, key=cv2.contourArea)\n",
    "\n",
    "# 対象物を切り取るための境界ボックスを取得\n",
    "x, y, w, h = cv2.boundingRect(largest_contour)\n",
    "cropped_image = image[y:y+h, x:x+w]\n",
    "\n",
    "cropped_mask = mask_inv[y:y+h, x:x+w]\n",
    "\n",
    "# plt.subplot(1, 3, 1)\n",
    "# plt.imshow(cv2.cvtColor(image, cv2.COLOR_BGR2RGB))\n",
    "# plt.title('Original Image')\n",
    "\n",
    "# plt.subplot(1, 3, 2)\n",
    "# plt.imshow(mask_inv, cmap='gray')\n",
    "# plt.title('Mask')\n",
    "\n",
    "# plt.subplot(1, 3, 3)\n",
    "# plt.imshow(cv2.cvtColor(cropped_mask, cv2.COLOR_BGR2RGB))\n",
    "# plt.title('Cropped Image')\n",
    "\n",
    "# plt.show()\n",
    "#Mask保存\n",
    "cv2.imwrite(\"/home/data/0203_energee_after/cropedmask.JPEG\", mask_inv)"
   ]
  },
  {
   "cell_type": "code",
   "execution_count": 13,
   "metadata": {},
   "outputs": [
    {
     "name": "stdout",
     "output_type": "stream",
     "text": [
      "305649\n"
     ]
    },
    {
     "data": {
      "image/png": "[encoded data removed]",
      "text/plain": [
       "<Figure size 1000x400 with 1 Axes>"
      ]
     },
     "metadata": {},
     "output_type": "display_data"
    }
   ],
   "source": [
    "#画像の大きさを見るだけ\n",
    "# img = cv2.imread('/home/data/0203_energee_after/maskBB/C/IMG_1929.JPEG')#小さいの1698,1929,1903\n",
    "img = cv2.imread('/home/data/0203_energee_after/maskBB/B/IMG_1824.JPEG')#大きいの1824\n",
    "img = cv2.cvtColor(img, cv2.COLOR_BGR2GRAY)\n",
    "_, img = cv2.threshold(img, 1, 255, cv2.THRESH_BINARY)\n",
    "count = 0\n",
    "for i in range(img.shape[0]):\n",
    "    for j in range(img.shape[1]):\n",
    "        if img[i][j] != 0:\n",
    "            count += 1\n",
    "print(count)\n",
    "plt.figure(figsize=(10, 4))\n",
    "plt.imshow(cv2.cvtColor(img, cv2.COLOR_BGR2RGB))\n",
    "# plt.title('直行座標系', fontsize=20)\n",
    "# plt.axis('off')\n",
    "plt.tick_params(axis='both', which='major', labelsize=16)  # 目盛りラベルのサイズ\n",
    "plt.show()"
   ]
  }
 ],
 "metadata": {
  "kernelspec": {
   "display_name": "Python 3",
   "language": "python",
   "name": "python3"
  },
  "language_info": {
   "codemirror_mode": {
    "name": "ipython",
    "version": 3
   },
   "file_extension": ".py",
   "mimetype": "text/x-python",
   "name": "python",
   "nbconvert_exporter": "python",
   "pygments_lexer": "ipython3",
   "version": "3.10.0"
  }
 },
 "nbformat": 4,
 "nbformat_minor": 2
}
