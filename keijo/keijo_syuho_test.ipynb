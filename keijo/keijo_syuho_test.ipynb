{
 "cells": [
  {
   "cell_type": "markdown",
   "metadata": {},
   "source": [
    "円形度 (Circularity)\n",
    "\n",
    "    定義:\n",
    "    Circularity=4πAP2\n",
    "    Circularity=P24πA​ ここで、AA は対象の面積、PP は周囲長です。\n",
    "    理解: 完全な円の場合、値は1になります。形が歪むほど値は小さくなります。\n",
    "    利点: 計算が簡単で、形状の違いを視覚的に理解しやすい。\n",
    "    欠点: 周囲長の計算がノイズの影響を受けやすい。\n",
    "\n",
    "コンパクトネス (Compactness)\n",
    "\n",
    "    定義:\n",
    "    Compactness=4A/πdmax\n",
    "    Compactness=dmax​4A/π\n",
    "\n",
    "    ​​ ここで、dmaxdmax​ は物体の最大直径です。\n",
    "    理解: コンパクトな（円に近い）形状ほど値が1に近づきます。\n",
    "\n",
    "アスペクト比 (Aspect Ratio)\n",
    "\n",
    "    定義:\n",
    "    Aspect Ratio=長径短径\n",
    "    Aspect Ratio=短径長径​\n",
    "    理解: 完全な円の場合、値は1。楕円などの場合は値が1より大きくなります。\n",
    "    用途: 楕円や長方形に近い形状の特性を知りたい場合。\n",
    "\n",
    "外接円との相違 (Form Factor)\n",
    "\n",
    "    定義: 対象物の外接円（周囲を囲む円）と、対象物との面積比や形状差を測定。\n",
    "    応用例: 粒子形状解析や顕微鏡画像解析。\n",
    "\n",
    "凸包 (Convex Hull) に基づく指標\n",
    "\n",
    "    面積比: 対象の面積 AA とその凸包の面積 AconvexAconvex​ の比。\n",
    "    Convexity=AAconvex\n",
    "    Convexity=Aconvex​A​\n",
    "    凸包に近いほど値が1に近づきます。\n",
    "    "
   ]
  }
 ],
 "metadata": {
  "language_info": {
   "name": "python"
  }
 },
 "nbformat": 4,
 "nbformat_minor": 2
}
